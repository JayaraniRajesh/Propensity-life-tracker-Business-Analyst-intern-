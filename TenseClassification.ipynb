{
  "nbformat": 4,
  "nbformat_minor": 0,
  "metadata": {
    "colab": {
      "name": "TenseClassification.ipynb",
      "provenance": [],
      "collapsed_sections": []
    },
    "kernelspec": {
      "name": "python3",
      "display_name": "Python 3"
    },
    "language_info": {
      "name": "python"
    }
  },
  "cells": [
    {
      "cell_type": "markdown",
      "source": [
        "Tense Classification"
      ],
      "metadata": {
        "id": "ym5Pt_59L0j0"
      }
    },
    {
      "cell_type": "markdown",
      "source": [
        "Import necessary libraries"
      ],
      "metadata": {
        "id": "jPZyh_atO39h"
      }
    },
    {
      "cell_type": "code",
      "source": [
        "import pandas as pd\n",
        "import numpy as np\n",
        "import matplotlib.pyplot as plt\n",
        "import seaborn as sns\n",
        "%matplotlib inline"
      ],
      "metadata": {
        "id": "1-4jM9Burj6c"
      },
      "execution_count": null,
      "outputs": []
    },
    {
      "cell_type": "code",
      "source": [
        "import re\n",
        "from nltk.stem import WordNetLemmatizer, PorterStemmer, SnowballStemmer\n",
        "import nltk\n",
        "from nltk.corpus import stopwords"
      ],
      "metadata": {
        "id": "_avfWApfrn7M"
      },
      "execution_count": null,
      "outputs": []
    },
    {
      "cell_type": "code",
      "source": [
        "def preprocess(raw_text):\n",
        "    \n",
        "    #regular expression keeping only letters \n",
        "    letters_only_text = re.sub(\"[^a-zA-Z]\", \" \", raw_text)\n",
        "\n",
        "    # convert to lower case and split into words -> convert string into list ( 'hello world' -> ['hello', 'world'])\n",
        "    words = letters_only_text.lower().split()\n",
        "\n",
        "    cleaned_words = []\n",
        "    \n",
        "    \n",
        "    #lemmatizer = PorterStemmer() #plug in here any other stemmer or lemmatiser you want to try out\n",
        "    lemmatizer = WordNetLemmatizer()\n",
        "    \n",
        "    #nltk.download('stopwords')\n",
        "    #stop_words = set(stopwords.words('english'))\n",
        "\n",
        "    # remove stopwords\n",
        "    #cleaned_words = [word for word in words if word not in stop_words]\n",
        "    \n",
        "    # stemm or lemmatise words\n",
        "    stemmed_words = []\n",
        "    for word in words:\n",
        "        word = lemmatizer.lemmatize(word)   #dont forget to change stem to lemmatize if you are using a lemmatizer\n",
        "        stemmed_words.append(word)\n",
        "    \n",
        "    # converting list back to string\n",
        "    return \" \".join(stemmed_words)"
      ],
      "metadata": {
        "id": "C_KPvNONQHQx"
      },
      "execution_count": null,
      "outputs": []
    },
    {
      "cell_type": "code",
      "source": [
        "train = pd.read_excel('/content/Meld updated data set.xlsx')\n",
        "train.head()"
      ],
      "metadata": {
        "id": "0x-n4sUfQKa0",
        "colab": {
          "base_uri": "https://localhost:8080/",
          "height": 206
        },
        "outputId": "9ad5b48a-bf73-478b-b663-7852d1ccff49"
      },
      "execution_count": null,
      "outputs": [
        {
          "output_type": "execute_result",
          "data": {
            "text/plain": [
              "                                           Sentences Taxonomy    Tense  \\\n",
              "0               Hey man , you wanna buy some weed ?        NS  Present   \n",
              "1                                        Some what ?        E  Present   \n",
              "2  Weed ! You know ? Pot , Ganja , Mary Jane some...        E  Present   \n",
              "3                             Oh , umm , no thanks .        S  Present   \n",
              "4  I also have blow if you prefer to do a few lin...       NS  Present   \n",
              "\n",
              "  Sentiment      Mood  \n",
              "0       Neg   Neutral  \n",
              "1       Neg  Surprise  \n",
              "2         N   Neutral  \n",
              "3       Neg   Neutral  \n",
              "4       Neg   Neutral  "
            ],
            "text/html": [
              "\n",
              "  <div id=\"df-fcfb5ae3-1699-45c3-b7e0-1e8dccaa4ca8\">\n",
              "    <div class=\"colab-df-container\">\n",
              "      <div>\n",
              "<style scoped>\n",
              "    .dataframe tbody tr th:only-of-type {\n",
              "        vertical-align: middle;\n",
              "    }\n",
              "\n",
              "    .dataframe tbody tr th {\n",
              "        vertical-align: top;\n",
              "    }\n",
              "\n",
              "    .dataframe thead th {\n",
              "        text-align: right;\n",
              "    }\n",
              "</style>\n",
              "<table border=\"1\" class=\"dataframe\">\n",
              "  <thead>\n",
              "    <tr style=\"text-align: right;\">\n",
              "      <th></th>\n",
              "      <th>Sentences</th>\n",
              "      <th>Taxonomy</th>\n",
              "      <th>Tense</th>\n",
              "      <th>Sentiment</th>\n",
              "      <th>Mood</th>\n",
              "    </tr>\n",
              "  </thead>\n",
              "  <tbody>\n",
              "    <tr>\n",
              "      <th>0</th>\n",
              "      <td>Hey man , you wanna buy some weed ?</td>\n",
              "      <td>NS</td>\n",
              "      <td>Present</td>\n",
              "      <td>Neg</td>\n",
              "      <td>Neutral</td>\n",
              "    </tr>\n",
              "    <tr>\n",
              "      <th>1</th>\n",
              "      <td>Some what ?</td>\n",
              "      <td>E</td>\n",
              "      <td>Present</td>\n",
              "      <td>Neg</td>\n",
              "      <td>Surprise</td>\n",
              "    </tr>\n",
              "    <tr>\n",
              "      <th>2</th>\n",
              "      <td>Weed ! You know ? Pot , Ganja , Mary Jane some...</td>\n",
              "      <td>E</td>\n",
              "      <td>Present</td>\n",
              "      <td>N</td>\n",
              "      <td>Neutral</td>\n",
              "    </tr>\n",
              "    <tr>\n",
              "      <th>3</th>\n",
              "      <td>Oh , umm , no thanks .</td>\n",
              "      <td>S</td>\n",
              "      <td>Present</td>\n",
              "      <td>Neg</td>\n",
              "      <td>Neutral</td>\n",
              "    </tr>\n",
              "    <tr>\n",
              "      <th>4</th>\n",
              "      <td>I also have blow if you prefer to do a few lin...</td>\n",
              "      <td>NS</td>\n",
              "      <td>Present</td>\n",
              "      <td>Neg</td>\n",
              "      <td>Neutral</td>\n",
              "    </tr>\n",
              "  </tbody>\n",
              "</table>\n",
              "</div>\n",
              "      <button class=\"colab-df-convert\" onclick=\"convertToInteractive('df-fcfb5ae3-1699-45c3-b7e0-1e8dccaa4ca8')\"\n",
              "              title=\"Convert this dataframe to an interactive table.\"\n",
              "              style=\"display:none;\">\n",
              "        \n",
              "  <svg xmlns=\"http://www.w3.org/2000/svg\" height=\"24px\"viewBox=\"0 0 24 24\"\n",
              "       width=\"24px\">\n",
              "    <path d=\"M0 0h24v24H0V0z\" fill=\"none\"/>\n",
              "    <path d=\"M18.56 5.44l.94 2.06.94-2.06 2.06-.94-2.06-.94-.94-2.06-.94 2.06-2.06.94zm-11 1L8.5 8.5l.94-2.06 2.06-.94-2.06-.94L8.5 2.5l-.94 2.06-2.06.94zm10 10l.94 2.06.94-2.06 2.06-.94-2.06-.94-.94-2.06-.94 2.06-2.06.94z\"/><path d=\"M17.41 7.96l-1.37-1.37c-.4-.4-.92-.59-1.43-.59-.52 0-1.04.2-1.43.59L10.3 9.45l-7.72 7.72c-.78.78-.78 2.05 0 2.83L4 21.41c.39.39.9.59 1.41.59.51 0 1.02-.2 1.41-.59l7.78-7.78 2.81-2.81c.8-.78.8-2.07 0-2.86zM5.41 20L4 18.59l7.72-7.72 1.47 1.35L5.41 20z\"/>\n",
              "  </svg>\n",
              "      </button>\n",
              "      \n",
              "  <style>\n",
              "    .colab-df-container {\n",
              "      display:flex;\n",
              "      flex-wrap:wrap;\n",
              "      gap: 12px;\n",
              "    }\n",
              "\n",
              "    .colab-df-convert {\n",
              "      background-color: #E8F0FE;\n",
              "      border: none;\n",
              "      border-radius: 50%;\n",
              "      cursor: pointer;\n",
              "      display: none;\n",
              "      fill: #1967D2;\n",
              "      height: 32px;\n",
              "      padding: 0 0 0 0;\n",
              "      width: 32px;\n",
              "    }\n",
              "\n",
              "    .colab-df-convert:hover {\n",
              "      background-color: #E2EBFA;\n",
              "      box-shadow: 0px 1px 2px rgba(60, 64, 67, 0.3), 0px 1px 3px 1px rgba(60, 64, 67, 0.15);\n",
              "      fill: #174EA6;\n",
              "    }\n",
              "\n",
              "    [theme=dark] .colab-df-convert {\n",
              "      background-color: #3B4455;\n",
              "      fill: #D2E3FC;\n",
              "    }\n",
              "\n",
              "    [theme=dark] .colab-df-convert:hover {\n",
              "      background-color: #434B5C;\n",
              "      box-shadow: 0px 1px 3px 1px rgba(0, 0, 0, 0.15);\n",
              "      filter: drop-shadow(0px 1px 2px rgba(0, 0, 0, 0.3));\n",
              "      fill: #FFFFFF;\n",
              "    }\n",
              "  </style>\n",
              "\n",
              "      <script>\n",
              "        const buttonEl =\n",
              "          document.querySelector('#df-fcfb5ae3-1699-45c3-b7e0-1e8dccaa4ca8 button.colab-df-convert');\n",
              "        buttonEl.style.display =\n",
              "          google.colab.kernel.accessAllowed ? 'block' : 'none';\n",
              "\n",
              "        async function convertToInteractive(key) {\n",
              "          const element = document.querySelector('#df-fcfb5ae3-1699-45c3-b7e0-1e8dccaa4ca8');\n",
              "          const dataTable =\n",
              "            await google.colab.kernel.invokeFunction('convertToInteractive',\n",
              "                                                     [key], {});\n",
              "          if (!dataTable) return;\n",
              "\n",
              "          const docLinkHtml = 'Like what you see? Visit the ' +\n",
              "            '<a target=\"_blank\" href=https://colab.research.google.com/notebooks/data_table.ipynb>data table notebook</a>'\n",
              "            + ' to learn more about interactive tables.';\n",
              "          element.innerHTML = '';\n",
              "          dataTable['output_type'] = 'display_data';\n",
              "          await google.colab.output.renderOutput(dataTable, element);\n",
              "          const docLink = document.createElement('div');\n",
              "          docLink.innerHTML = docLinkHtml;\n",
              "          element.appendChild(docLink);\n",
              "        }\n",
              "      </script>\n",
              "    </div>\n",
              "  </div>\n",
              "  "
            ]
          },
          "metadata": {},
          "execution_count": 72
        }
      ]
    },
    {
      "cell_type": "code",
      "source": [
        "nltk.download('wordnet')\n",
        "\n",
        "train['prep_arg'] = train['Sentences'].apply(preprocess)\n",
        "print(train['prep_arg'])"
      ],
      "metadata": {
        "id": "qaf4maeeQNT9",
        "colab": {
          "base_uri": "https://localhost:8080/"
        },
        "outputId": "b217045a-f2ba-4e79-8d1e-01d3c08e87eb"
      },
      "execution_count": null,
      "outputs": [
        {
          "output_type": "stream",
          "name": "stdout",
          "text": [
            "[nltk_data] Downloading package wordnet to /root/nltk_data...\n",
            "[nltk_data]   Package wordnet is already up-to-date!\n",
            "0                        hey man you wanna buy some weed\n",
            "1                                              some what\n",
            "2         weed you know pot ganja mary jane some chronic\n",
            "3                                       oh umm no thanks\n",
            "4        i also have blow if you prefer to do a few line\n",
            "                             ...                        \n",
            "205    oh that suit you very well besides it is belie...\n",
            "206    really i ii take it and i m leaving here tomor...\n",
            "207    our pleasure please fill out this form leaving...\n",
            "208                   thanks how much would that come to\n",
            "209                                           let me see\n",
            "Name: prep_arg, Length: 210, dtype: object\n"
          ]
        }
      ]
    },
    {
      "cell_type": "code",
      "source": [
        "# Import LabelEncoder\n",
        "from sklearn import preprocessing\n",
        "#creating labelEncoder\n",
        "le = preprocessing.LabelEncoder()\n",
        "# Converting string labels into numbers.\n",
        "label_encoded=le.fit_transform(train['Tense'])\n",
        "print(label_encoded)"
      ],
      "metadata": {
        "colab": {
          "base_uri": "https://localhost:8080/"
        },
        "id": "HLG6bXnarzok",
        "outputId": "4e06ded3-64bc-43c2-d9ab-1e2fcd795e21"
      },
      "execution_count": null,
      "outputs": [
        {
          "output_type": "stream",
          "name": "stdout",
          "text": [
            "[3 3 3 3 3 3 3 2 0 0 3 3 3 3 0 3 3 2 3 3 3 3 0 3 3 3 3 3 3 2 3 3 3 3 0 0 3\n",
            " 3 2 3 3 3 3 0 3 0 3 0 0 0 3 3 3 0 3 2 3 3 3 2 2 3 2 2 3 0 0 3 3 3 2 3 3 3\n",
            " 3 0 3 3 3 3 3 3 3 3 3 3 0 0 3 3 3 3 0 3 0 3 3 0 3 3 0 0 0 0 0 3 3 3 0 3 3\n",
            " 3 3 0 3 3 3 3 3 0 3 3 0 3 3 3 3 0 0 3 3 3 3 0 3 3 3 3 3 3 3 2 3 2 3 1 3 3\n",
            " 0 0 3 3 3 3 3 3 3 3 0 3 3 3 3 0 3 3 2 3 3 2 2 2 3 3 3 3 3 3 0 3 0 3 3 3 3\n",
            " 0 0 3 2 3 3 3 3 3 3 3 3 3 3 3 3 3 3 3 3 3 0 3 3 3]\n"
          ]
        }
      ]
    },
    {
      "cell_type": "code",
      "source": [
        "from sklearn.model_selection import train_test_split\n",
        "\n",
        "X_train, X_test, y_train, y_test = train_test_split(\n",
        "    train['prep_arg'],\n",
        "    label_encoded,\n",
        "    test_size=0.2,\n",
        "    random_state=50\n",
        ")"
      ],
      "metadata": {
        "id": "xHFTywwdr0mE"
      },
      "execution_count": null,
      "outputs": []
    },
    {
      "cell_type": "code",
      "source": [
        "from sklearn.feature_extraction.text import TfidfTransformer \n",
        "from sklearn.feature_extraction.text import CountVectorizer\n",
        "count_vectorizer = CountVectorizer()\n",
        "#fit training data\n",
        "training_data = count_vectorizer.fit_transform(X_train)\n",
        "\n",
        "#transform test data\n",
        "testing_data = count_vectorizer.transform(X_test)"
      ],
      "metadata": {
        "id": "3w2CuT3Mr5Vt"
      },
      "execution_count": null,
      "outputs": []
    },
    {
      "cell_type": "code",
      "source": [
        "#Logistic Regression model algorithm\n",
        "from sklearn.linear_model import LogisticRegression\n",
        "from sklearn.metrics import accuracy_score\n",
        "model = LogisticRegression()\n",
        "model.fit(training_data.todense(), y_train)\n",
        "logisticAccuracy = accuracy_score(y_test, model.predict(testing_data.todense()))\n",
        "print('Logistic Regression model accuracy: {}'.format(logisticAccuracy))"
      ],
      "metadata": {
        "colab": {
          "base_uri": "https://localhost:8080/"
        },
        "id": "3DQkfu_Jr8Gq",
        "outputId": "9f1dba63-80f1-4150-948e-7d9041339d42"
      },
      "execution_count": null,
      "outputs": [
        {
          "output_type": "stream",
          "name": "stdout",
          "text": [
            "Logistic Regression model accuracy: 0.7142857142857143\n"
          ]
        },
        {
          "output_type": "stream",
          "name": "stderr",
          "text": [
            "/usr/local/lib/python3.7/dist-packages/sklearn/utils/validation.py:598: FutureWarning: np.matrix usage is deprecated in 1.0 and will raise a TypeError in 1.2. Please convert to a numpy array with np.asarray. For more information see: https://numpy.org/doc/stable/reference/generated/numpy.matrix.html\n",
            "  FutureWarning,\n",
            "/usr/local/lib/python3.7/dist-packages/sklearn/utils/validation.py:598: FutureWarning: np.matrix usage is deprecated in 1.0 and will raise a TypeError in 1.2. Please convert to a numpy array with np.asarray. For more information see: https://numpy.org/doc/stable/reference/generated/numpy.matrix.html\n",
            "  FutureWarning,\n"
          ]
        }
      ]
    }
  ]
}